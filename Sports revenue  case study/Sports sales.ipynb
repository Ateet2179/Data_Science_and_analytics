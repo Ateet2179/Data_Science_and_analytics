{
 "cells": [
  {
   "cell_type": "markdown",
   "metadata": {},
   "source": [
    "# Sports revenue analysis\n",
    "Sports clothing and athleisure attire is a huge industry, worth approximately $193 billion in 2021 with a strong growth forecast over the next decade!\n",
    "\n",
    "In this notebook, we play the role of a product analyst for an online sports clothing company. The company is specifically interested in how it can improve revenue. We will dive into product data such as pricing, reviews, descriptions, and ratings, as well as revenue and website traffic, to produce recommendations for its marketing and sales teams.\n",
    "\n",
    "The database provided to us, sports, contains five tables, with product_id being the primary key for all of them|"
   ]
  },
  {
   "cell_type": "code",
   "execution_count": 1,
   "metadata": {},
   "outputs": [],
   "source": [
    "# importing necessary tables\n",
    "\n",
    "import mysql.connector\n",
    "import pandas as pd\n",
    "import numpy as np\n",
    "from sqlalchemy import create_engine\n",
    "import matplotlib.pyplot as plt\n",
    "import seaborn as sns"
   ]
  },
  {
   "cell_type": "code",
   "execution_count": 2,
   "metadata": {},
   "outputs": [],
   "source": [
    "# connecting to mysql server\n",
    "conn=mysql.connector.connect(host='localhost', password='#',user='root',db='sports')\n",
    "# creating a cursor\n",
    "cursor=conn.cursor()\n",
    "engine = create_engine('mysql+mysqlconnector://root:#@localhost/sports', echo=False)"
   ]
  },
  {
   "cell_type": "code",
   "execution_count": 3,
   "metadata": {},
   "outputs": [
    {
     "name": "stderr",
     "output_type": "stream",
     "text": [
      "C:\\Users\\THE_DE_V_IL\\AppData\\Local\\Temp\\ipykernel_11572\\2393041987.py:2: UserWarning: pandas only supports SQLAlchemy connectable (engine/connection) or database string URI or sqlite3 DBAPI2 connection. Other DBAPI2 objects are not tested. Please consider using SQLAlchemy.\n",
      "  brands=pd.read_sql(\"SELECT * FROM brands\",conn )\n",
      "C:\\Users\\THE_DE_V_IL\\AppData\\Local\\Temp\\ipykernel_11572\\2393041987.py:3: UserWarning: pandas only supports SQLAlchemy connectable (engine/connection) or database string URI or sqlite3 DBAPI2 connection. Other DBAPI2 objects are not tested. Please consider using SQLAlchemy.\n",
      "  finance=pd.read_sql(\"SELECT * FROM finance\",conn )\n",
      "C:\\Users\\THE_DE_V_IL\\AppData\\Local\\Temp\\ipykernel_11572\\2393041987.py:4: UserWarning: pandas only supports SQLAlchemy connectable (engine/connection) or database string URI or sqlite3 DBAPI2 connection. Other DBAPI2 objects are not tested. Please consider using SQLAlchemy.\n",
      "  info=pd.read_sql(\"SELECT * FROM info_desc\",conn )\n",
      "C:\\Users\\THE_DE_V_IL\\AppData\\Local\\Temp\\ipykernel_11572\\2393041987.py:5: UserWarning: pandas only supports SQLAlchemy connectable (engine/connection) or database string URI or sqlite3 DBAPI2 connection. Other DBAPI2 objects are not tested. Please consider using SQLAlchemy.\n",
      "  reviews=pd.read_sql(\"SELECT * FROM reviews\",conn )\n",
      "C:\\Users\\THE_DE_V_IL\\AppData\\Local\\Temp\\ipykernel_11572\\2393041987.py:6: UserWarning: pandas only supports SQLAlchemy connectable (engine/connection) or database string URI or sqlite3 DBAPI2 connection. Other DBAPI2 objects are not tested. Please consider using SQLAlchemy.\n",
      "  traffic=pd.read_sql(\"SELECT * FROM traffic\",conn )\n"
     ]
    }
   ],
   "source": [
    "# creating data frames\n",
    "brands=pd.read_sql(\"SELECT * FROM brands\",conn )\n",
    "finance=pd.read_sql(\"SELECT * FROM finance\",conn )\n",
    "info=pd.read_sql(\"SELECT * FROM info_desc\",conn )\n",
    "reviews=pd.read_sql(\"SELECT * FROM reviews\",conn )\n",
    "traffic=pd.read_sql(\"SELECT * FROM traffic\",conn )"
   ]
  },
  {
   "cell_type": "code",
   "execution_count": 4,
   "metadata": {},
   "outputs": [],
   "source": [
    "# Data exploration"
   ]
  },
  {
   "cell_type": "code",
   "execution_count": 5,
   "metadata": {},
   "outputs": [
    {
     "data": {
      "text/html": [
       "<div>\n",
       "<style scoped>\n",
       "    .dataframe tbody tr th:only-of-type {\n",
       "        vertical-align: middle;\n",
       "    }\n",
       "\n",
       "    .dataframe tbody tr th {\n",
       "        vertical-align: top;\n",
       "    }\n",
       "\n",
       "    .dataframe thead th {\n",
       "        text-align: right;\n",
       "    }\n",
       "</style>\n",
       "<table border=\"1\" class=\"dataframe\">\n",
       "  <thead>\n",
       "    <tr style=\"text-align: right;\">\n",
       "      <th></th>\n",
       "      <th>product_id</th>\n",
       "      <th>brand</th>\n",
       "    </tr>\n",
       "  </thead>\n",
       "  <tbody>\n",
       "    <tr>\n",
       "      <th>0</th>\n",
       "      <td>G27341</td>\n",
       "      <td>Adidas</td>\n",
       "    </tr>\n",
       "    <tr>\n",
       "      <th>1</th>\n",
       "      <td>CM0081</td>\n",
       "      <td>Adidas</td>\n",
       "    </tr>\n",
       "    <tr>\n",
       "      <th>2</th>\n",
       "      <td>B44832</td>\n",
       "      <td>Adidas</td>\n",
       "    </tr>\n",
       "    <tr>\n",
       "      <th>3</th>\n",
       "      <td>D98205</td>\n",
       "      <td>Adidas</td>\n",
       "    </tr>\n",
       "    <tr>\n",
       "      <th>4</th>\n",
       "      <td>B75586</td>\n",
       "      <td>Adidas</td>\n",
       "    </tr>\n",
       "  </tbody>\n",
       "</table>\n",
       "</div>"
      ],
      "text/plain": [
       "  product_id   brand\n",
       "0     G27341  Adidas\n",
       "1     CM0081  Adidas\n",
       "2     B44832  Adidas\n",
       "3     D98205  Adidas\n",
       "4     B75586  Adidas"
      ]
     },
     "execution_count": 5,
     "metadata": {},
     "output_type": "execute_result"
    }
   ],
   "source": [
    "brands.head()"
   ]
  },
  {
   "cell_type": "code",
   "execution_count": 6,
   "metadata": {},
   "outputs": [
    {
     "data": {
      "text/html": [
       "<div>\n",
       "<style scoped>\n",
       "    .dataframe tbody tr th:only-of-type {\n",
       "        vertical-align: middle;\n",
       "    }\n",
       "\n",
       "    .dataframe tbody tr th {\n",
       "        vertical-align: top;\n",
       "    }\n",
       "\n",
       "    .dataframe thead th {\n",
       "        text-align: right;\n",
       "    }\n",
       "</style>\n",
       "<table border=\"1\" class=\"dataframe\">\n",
       "  <thead>\n",
       "    <tr style=\"text-align: right;\">\n",
       "      <th></th>\n",
       "      <th>product_id</th>\n",
       "      <th>listing_price</th>\n",
       "      <th>sale_price</th>\n",
       "      <th>discount</th>\n",
       "      <th>revenue</th>\n",
       "    </tr>\n",
       "  </thead>\n",
       "  <tbody>\n",
       "    <tr>\n",
       "      <th>0</th>\n",
       "      <td>G27341</td>\n",
       "      <td>75.99</td>\n",
       "      <td>37.99</td>\n",
       "      <td>0.5</td>\n",
       "      <td>1641.17</td>\n",
       "    </tr>\n",
       "    <tr>\n",
       "      <th>1</th>\n",
       "      <td>CM0081</td>\n",
       "      <td>9.99</td>\n",
       "      <td>5.99</td>\n",
       "      <td>0.4</td>\n",
       "      <td>398.93</td>\n",
       "    </tr>\n",
       "    <tr>\n",
       "      <th>2</th>\n",
       "      <td>B44832</td>\n",
       "      <td>69.99</td>\n",
       "      <td>34.99</td>\n",
       "      <td>0.5</td>\n",
       "      <td>2204.37</td>\n",
       "    </tr>\n",
       "    <tr>\n",
       "      <th>3</th>\n",
       "      <td>D98205</td>\n",
       "      <td>79.99</td>\n",
       "      <td>39.99</td>\n",
       "      <td>0.5</td>\n",
       "      <td>5182.70</td>\n",
       "    </tr>\n",
       "    <tr>\n",
       "      <th>4</th>\n",
       "      <td>B75586</td>\n",
       "      <td>47.99</td>\n",
       "      <td>19.20</td>\n",
       "      <td>0.6</td>\n",
       "      <td>1555.20</td>\n",
       "    </tr>\n",
       "  </tbody>\n",
       "</table>\n",
       "</div>"
      ],
      "text/plain": [
       "  product_id  listing_price  sale_price  discount  revenue\n",
       "0     G27341          75.99       37.99       0.5  1641.17\n",
       "1     CM0081           9.99        5.99       0.4   398.93\n",
       "2     B44832          69.99       34.99       0.5  2204.37\n",
       "3     D98205          79.99       39.99       0.5  5182.70\n",
       "4     B75586          47.99       19.20       0.6  1555.20"
      ]
     },
     "execution_count": 6,
     "metadata": {},
     "output_type": "execute_result"
    }
   ],
   "source": [
    "finance.head()"
   ]
  },
  {
   "cell_type": "code",
   "execution_count": 7,
   "metadata": {},
   "outputs": [
    {
     "data": {
      "text/html": [
       "<div>\n",
       "<style scoped>\n",
       "    .dataframe tbody tr th:only-of-type {\n",
       "        vertical-align: middle;\n",
       "    }\n",
       "\n",
       "    .dataframe tbody tr th {\n",
       "        vertical-align: top;\n",
       "    }\n",
       "\n",
       "    .dataframe thead th {\n",
       "        text-align: right;\n",
       "    }\n",
       "</style>\n",
       "<table border=\"1\" class=\"dataframe\">\n",
       "  <thead>\n",
       "    <tr style=\"text-align: right;\">\n",
       "      <th></th>\n",
       "      <th>product_id</th>\n",
       "      <th>last_visited</th>\n",
       "    </tr>\n",
       "  </thead>\n",
       "  <tbody>\n",
       "    <tr>\n",
       "      <th>0</th>\n",
       "      <td>G27341</td>\n",
       "      <td>2029-11-18 16:16:00</td>\n",
       "    </tr>\n",
       "    <tr>\n",
       "      <th>1</th>\n",
       "      <td>CM0081</td>\n",
       "      <td>2001-02-18 10:27:00</td>\n",
       "    </tr>\n",
       "    <tr>\n",
       "      <th>2</th>\n",
       "      <td>B44832</td>\n",
       "      <td>2007-09-18 20:06:00</td>\n",
       "    </tr>\n",
       "    <tr>\n",
       "      <th>3</th>\n",
       "      <td>D98205</td>\n",
       "      <td>2018-07-19 15:26:00</td>\n",
       "    </tr>\n",
       "    <tr>\n",
       "      <th>4</th>\n",
       "      <td>B75586</td>\n",
       "      <td>2030-01-19 12:09:00</td>\n",
       "    </tr>\n",
       "  </tbody>\n",
       "</table>\n",
       "</div>"
      ],
      "text/plain": [
       "  product_id        last_visited\n",
       "0     G27341 2029-11-18 16:16:00\n",
       "1     CM0081 2001-02-18 10:27:00\n",
       "2     B44832 2007-09-18 20:06:00\n",
       "3     D98205 2018-07-19 15:26:00\n",
       "4     B75586 2030-01-19 12:09:00"
      ]
     },
     "execution_count": 7,
     "metadata": {},
     "output_type": "execute_result"
    }
   ],
   "source": [
    "traffic.head()"
   ]
  },
  {
   "cell_type": "code",
   "execution_count": 8,
   "metadata": {},
   "outputs": [
    {
     "data": {
      "text/html": [
       "<div>\n",
       "<style scoped>\n",
       "    .dataframe tbody tr th:only-of-type {\n",
       "        vertical-align: middle;\n",
       "    }\n",
       "\n",
       "    .dataframe tbody tr th {\n",
       "        vertical-align: top;\n",
       "    }\n",
       "\n",
       "    .dataframe thead th {\n",
       "        text-align: right;\n",
       "    }\n",
       "</style>\n",
       "<table border=\"1\" class=\"dataframe\">\n",
       "  <thead>\n",
       "    <tr style=\"text-align: right;\">\n",
       "      <th></th>\n",
       "      <th>product_id</th>\n",
       "      <th>rating</th>\n",
       "      <th>reviews</th>\n",
       "    </tr>\n",
       "  </thead>\n",
       "  <tbody>\n",
       "    <tr>\n",
       "      <th>0</th>\n",
       "      <td>G27341</td>\n",
       "      <td>3.3</td>\n",
       "      <td>24.0</td>\n",
       "    </tr>\n",
       "    <tr>\n",
       "      <th>1</th>\n",
       "      <td>CM0081</td>\n",
       "      <td>2.6</td>\n",
       "      <td>37.0</td>\n",
       "    </tr>\n",
       "    <tr>\n",
       "      <th>2</th>\n",
       "      <td>B44832</td>\n",
       "      <td>4.1</td>\n",
       "      <td>35.0</td>\n",
       "    </tr>\n",
       "    <tr>\n",
       "      <th>3</th>\n",
       "      <td>D98205</td>\n",
       "      <td>3.5</td>\n",
       "      <td>72.0</td>\n",
       "    </tr>\n",
       "    <tr>\n",
       "      <th>4</th>\n",
       "      <td>B75586</td>\n",
       "      <td>1.0</td>\n",
       "      <td>45.0</td>\n",
       "    </tr>\n",
       "  </tbody>\n",
       "</table>\n",
       "</div>"
      ],
      "text/plain": [
       "  product_id  rating  reviews\n",
       "0     G27341     3.3     24.0\n",
       "1     CM0081     2.6     37.0\n",
       "2     B44832     4.1     35.0\n",
       "3     D98205     3.5     72.0\n",
       "4     B75586     1.0     45.0"
      ]
     },
     "execution_count": 8,
     "metadata": {},
     "output_type": "execute_result"
    }
   ],
   "source": [
    "reviews.head()"
   ]
  },
  {
   "cell_type": "code",
   "execution_count": 9,
   "metadata": {},
   "outputs": [
    {
     "data": {
      "text/html": [
       "<div>\n",
       "<style scoped>\n",
       "    .dataframe tbody tr th:only-of-type {\n",
       "        vertical-align: middle;\n",
       "    }\n",
       "\n",
       "    .dataframe tbody tr th {\n",
       "        vertical-align: top;\n",
       "    }\n",
       "\n",
       "    .dataframe thead th {\n",
       "        text-align: right;\n",
       "    }\n",
       "</style>\n",
       "<table border=\"1\" class=\"dataframe\">\n",
       "  <thead>\n",
       "    <tr style=\"text-align: right;\">\n",
       "      <th></th>\n",
       "      <th>product_name</th>\n",
       "      <th>product_id</th>\n",
       "      <th>description</th>\n",
       "    </tr>\n",
       "  </thead>\n",
       "  <tbody>\n",
       "    <tr>\n",
       "      <th>0</th>\n",
       "      <td>None</td>\n",
       "      <td>AH2430</td>\n",
       "      <td>None</td>\n",
       "    </tr>\n",
       "    <tr>\n",
       "      <th>1</th>\n",
       "      <td>Women's adidas Originals Sleek Shoes</td>\n",
       "      <td>G27341</td>\n",
       "      <td>A modern take on adidas sport heritage, tailor...</td>\n",
       "    </tr>\n",
       "    <tr>\n",
       "      <th>2</th>\n",
       "      <td>Women's adidas Swim Puka Slippers</td>\n",
       "      <td>CM0081</td>\n",
       "      <td>These adidas Puka slippers for women's come wi...</td>\n",
       "    </tr>\n",
       "    <tr>\n",
       "      <th>3</th>\n",
       "      <td>Women's adidas Sport Inspired Questar Ride Shoes</td>\n",
       "      <td>B44832</td>\n",
       "      <td>Inspired by modern tech runners, these women's...</td>\n",
       "    </tr>\n",
       "    <tr>\n",
       "      <th>4</th>\n",
       "      <td>Women's adidas Originals Taekwondo Shoes</td>\n",
       "      <td>D98205</td>\n",
       "      <td>This design is inspired by vintage Taekwondo s...</td>\n",
       "    </tr>\n",
       "  </tbody>\n",
       "</table>\n",
       "</div>"
      ],
      "text/plain": [
       "                                       product_name product_id  \\\n",
       "0                                              None     AH2430   \n",
       "1              Women's adidas Originals Sleek Shoes     G27341   \n",
       "2                 Women's adidas Swim Puka Slippers     CM0081   \n",
       "3  Women's adidas Sport Inspired Questar Ride Shoes     B44832   \n",
       "4          Women's adidas Originals Taekwondo Shoes     D98205   \n",
       "\n",
       "                                         description  \n",
       "0                                               None  \n",
       "1  A modern take on adidas sport heritage, tailor...  \n",
       "2  These adidas Puka slippers for women's come wi...  \n",
       "3  Inspired by modern tech runners, these women's...  \n",
       "4  This design is inspired by vintage Taekwondo s...  "
      ]
     },
     "execution_count": 9,
     "metadata": {},
     "output_type": "execute_result"
    }
   ],
   "source": [
    "info.head()"
   ]
  },
  {
   "cell_type": "code",
   "execution_count": 10,
   "metadata": {},
   "outputs": [],
   "source": [
    "# finance is our fact table and product_id as primary key"
   ]
  },
  {
   "cell_type": "code",
   "execution_count": 11,
   "metadata": {},
   "outputs": [],
   "source": [
    "# this is a way to merge all the tables with primary key being product_id, we can also use pd.merge for the same output.\n",
    "dfs_to_join = [brands, info, traffic, reviews, finance]\n",
    "sports_df = brands.copy()\n",
    "for df in dfs_to_join[1:]:\n",
    "    sports_df = sports_df.merge(df, on='product_id', how='inner')"
   ]
  },
  {
   "cell_type": "code",
   "execution_count": 12,
   "metadata": {},
   "outputs": [
    {
     "data": {
      "text/html": [
       "<div>\n",
       "<style scoped>\n",
       "    .dataframe tbody tr th:only-of-type {\n",
       "        vertical-align: middle;\n",
       "    }\n",
       "\n",
       "    .dataframe tbody tr th {\n",
       "        vertical-align: top;\n",
       "    }\n",
       "\n",
       "    .dataframe thead th {\n",
       "        text-align: right;\n",
       "    }\n",
       "</style>\n",
       "<table border=\"1\" class=\"dataframe\">\n",
       "  <thead>\n",
       "    <tr style=\"text-align: right;\">\n",
       "      <th></th>\n",
       "      <th>product_id</th>\n",
       "      <th>brand</th>\n",
       "      <th>product_name</th>\n",
       "      <th>description</th>\n",
       "      <th>last_visited</th>\n",
       "      <th>rating</th>\n",
       "      <th>reviews</th>\n",
       "      <th>listing_price</th>\n",
       "      <th>sale_price</th>\n",
       "      <th>discount</th>\n",
       "      <th>revenue</th>\n",
       "    </tr>\n",
       "  </thead>\n",
       "  <tbody>\n",
       "    <tr>\n",
       "      <th>0</th>\n",
       "      <td>G27341</td>\n",
       "      <td>Adidas</td>\n",
       "      <td>Women's adidas Originals Sleek Shoes</td>\n",
       "      <td>A modern take on adidas sport heritage, tailor...</td>\n",
       "      <td>2029-11-18 16:16:00</td>\n",
       "      <td>3.3</td>\n",
       "      <td>24.0</td>\n",
       "      <td>75.99</td>\n",
       "      <td>37.99</td>\n",
       "      <td>0.5</td>\n",
       "      <td>1641.17</td>\n",
       "    </tr>\n",
       "    <tr>\n",
       "      <th>1</th>\n",
       "      <td>CM0081</td>\n",
       "      <td>Adidas</td>\n",
       "      <td>Women's adidas Swim Puka Slippers</td>\n",
       "      <td>These adidas Puka slippers for women's come wi...</td>\n",
       "      <td>2001-02-18 10:27:00</td>\n",
       "      <td>2.6</td>\n",
       "      <td>37.0</td>\n",
       "      <td>9.99</td>\n",
       "      <td>5.99</td>\n",
       "      <td>0.4</td>\n",
       "      <td>398.93</td>\n",
       "    </tr>\n",
       "    <tr>\n",
       "      <th>2</th>\n",
       "      <td>B44832</td>\n",
       "      <td>Adidas</td>\n",
       "      <td>Women's adidas Sport Inspired Questar Ride Shoes</td>\n",
       "      <td>Inspired by modern tech runners, these women's...</td>\n",
       "      <td>2007-09-18 20:06:00</td>\n",
       "      <td>4.1</td>\n",
       "      <td>35.0</td>\n",
       "      <td>69.99</td>\n",
       "      <td>34.99</td>\n",
       "      <td>0.5</td>\n",
       "      <td>2204.37</td>\n",
       "    </tr>\n",
       "    <tr>\n",
       "      <th>3</th>\n",
       "      <td>D98205</td>\n",
       "      <td>Adidas</td>\n",
       "      <td>Women's adidas Originals Taekwondo Shoes</td>\n",
       "      <td>This design is inspired by vintage Taekwondo s...</td>\n",
       "      <td>2018-07-19 15:26:00</td>\n",
       "      <td>3.5</td>\n",
       "      <td>72.0</td>\n",
       "      <td>79.99</td>\n",
       "      <td>39.99</td>\n",
       "      <td>0.5</td>\n",
       "      <td>5182.70</td>\n",
       "    </tr>\n",
       "    <tr>\n",
       "      <th>4</th>\n",
       "      <td>B75586</td>\n",
       "      <td>Adidas</td>\n",
       "      <td>Women's adidas Sport Inspired Duramo Lite 2.0 ...</td>\n",
       "      <td>Refine your interval training in these women's...</td>\n",
       "      <td>2030-01-19 12:09:00</td>\n",
       "      <td>1.0</td>\n",
       "      <td>45.0</td>\n",
       "      <td>47.99</td>\n",
       "      <td>19.20</td>\n",
       "      <td>0.6</td>\n",
       "      <td>1555.20</td>\n",
       "    </tr>\n",
       "  </tbody>\n",
       "</table>\n",
       "</div>"
      ],
      "text/plain": [
       "  product_id   brand                                       product_name  \\\n",
       "0     G27341  Adidas               Women's adidas Originals Sleek Shoes   \n",
       "1     CM0081  Adidas                  Women's adidas Swim Puka Slippers   \n",
       "2     B44832  Adidas   Women's adidas Sport Inspired Questar Ride Shoes   \n",
       "3     D98205  Adidas           Women's adidas Originals Taekwondo Shoes   \n",
       "4     B75586  Adidas  Women's adidas Sport Inspired Duramo Lite 2.0 ...   \n",
       "\n",
       "                                         description        last_visited  \\\n",
       "0  A modern take on adidas sport heritage, tailor... 2029-11-18 16:16:00   \n",
       "1  These adidas Puka slippers for women's come wi... 2001-02-18 10:27:00   \n",
       "2  Inspired by modern tech runners, these women's... 2007-09-18 20:06:00   \n",
       "3  This design is inspired by vintage Taekwondo s... 2018-07-19 15:26:00   \n",
       "4  Refine your interval training in these women's... 2030-01-19 12:09:00   \n",
       "\n",
       "   rating  reviews  listing_price  sale_price  discount  revenue  \n",
       "0     3.3     24.0          75.99       37.99       0.5  1641.17  \n",
       "1     2.6     37.0           9.99        5.99       0.4   398.93  \n",
       "2     4.1     35.0          69.99       34.99       0.5  2204.37  \n",
       "3     3.5     72.0          79.99       39.99       0.5  5182.70  \n",
       "4     1.0     45.0          47.99       19.20       0.6  1555.20  "
      ]
     },
     "execution_count": 12,
     "metadata": {},
     "output_type": "execute_result"
    }
   ],
   "source": [
    "sports_df.head()"
   ]
  },
  {
   "cell_type": "code",
   "execution_count": 13,
   "metadata": {},
   "outputs": [
    {
     "data": {
      "text/plain": [
       "Adidas    2575\n",
       "Nike       545\n",
       "Name: brand, dtype: int64"
      ]
     },
     "execution_count": 13,
     "metadata": {},
     "output_type": "execute_result"
    }
   ],
   "source": [
    "sports_df.brand.value_counts()"
   ]
  },
  {
   "cell_type": "code",
   "execution_count": 14,
   "metadata": {},
   "outputs": [
    {
     "name": "stdout",
     "output_type": "stream",
     "text": [
      "<class 'pandas.core.frame.DataFrame'>\n",
      "Int64Index: 3120 entries, 0 to 3119\n",
      "Data columns (total 11 columns):\n",
      " #   Column         Non-Null Count  Dtype         \n",
      "---  ------         --------------  -----         \n",
      " 0   product_id     3120 non-null   object        \n",
      " 1   brand          3120 non-null   object        \n",
      " 2   product_name   3120 non-null   object        \n",
      " 3   description    3117 non-null   object        \n",
      " 4   last_visited   2876 non-null   datetime64[ns]\n",
      " 5   rating         3120 non-null   float64       \n",
      " 6   reviews        3120 non-null   float64       \n",
      " 7   listing_price  3120 non-null   float64       \n",
      " 8   sale_price     3120 non-null   float64       \n",
      " 9   discount       3120 non-null   float64       \n",
      " 10  revenue        3120 non-null   float64       \n",
      "dtypes: datetime64[ns](1), float64(6), object(4)\n",
      "memory usage: 292.5+ KB\n"
     ]
    }
   ],
   "source": [
    "sports_df.info()"
   ]
  },
  {
   "cell_type": "code",
   "execution_count": 15,
   "metadata": {},
   "outputs": [],
   "source": [
    "# data types seems corret, but has missing values\n"
   ]
  },
  {
   "cell_type": "code",
   "execution_count": 16,
   "metadata": {},
   "outputs": [
    {
     "data": {
      "text/html": [
       "<div>\n",
       "<style scoped>\n",
       "    .dataframe tbody tr th:only-of-type {\n",
       "        vertical-align: middle;\n",
       "    }\n",
       "\n",
       "    .dataframe tbody tr th {\n",
       "        vertical-align: top;\n",
       "    }\n",
       "\n",
       "    .dataframe thead th {\n",
       "        text-align: right;\n",
       "    }\n",
       "</style>\n",
       "<table border=\"1\" class=\"dataframe\">\n",
       "  <thead>\n",
       "    <tr style=\"text-align: right;\">\n",
       "      <th></th>\n",
       "      <th>rating</th>\n",
       "      <th>reviews</th>\n",
       "      <th>listing_price</th>\n",
       "      <th>sale_price</th>\n",
       "      <th>discount</th>\n",
       "      <th>revenue</th>\n",
       "    </tr>\n",
       "  </thead>\n",
       "  <tbody>\n",
       "    <tr>\n",
       "      <th>count</th>\n",
       "      <td>3120.000000</td>\n",
       "      <td>3120.000000</td>\n",
       "      <td>3120.000000</td>\n",
       "      <td>3120.000000</td>\n",
       "      <td>3120.000000</td>\n",
       "      <td>3120.000000</td>\n",
       "    </tr>\n",
       "    <tr>\n",
       "      <th>mean</th>\n",
       "      <td>3.265801</td>\n",
       "      <td>41.545513</td>\n",
       "      <td>69.719455</td>\n",
       "      <td>60.103035</td>\n",
       "      <td>0.276090</td>\n",
       "      <td>3951.571263</td>\n",
       "    </tr>\n",
       "    <tr>\n",
       "      <th>std</th>\n",
       "      <td>1.392685</td>\n",
       "      <td>31.361668</td>\n",
       "      <td>46.586909</td>\n",
       "      <td>41.906852</td>\n",
       "      <td>0.224955</td>\n",
       "      <td>4440.312551</td>\n",
       "    </tr>\n",
       "    <tr>\n",
       "      <th>min</th>\n",
       "      <td>0.000000</td>\n",
       "      <td>0.000000</td>\n",
       "      <td>0.000000</td>\n",
       "      <td>4.490000</td>\n",
       "      <td>0.000000</td>\n",
       "      <td>0.000000</td>\n",
       "    </tr>\n",
       "    <tr>\n",
       "      <th>25%</th>\n",
       "      <td>2.600000</td>\n",
       "      <td>12.000000</td>\n",
       "      <td>45.990000</td>\n",
       "      <td>29.990000</td>\n",
       "      <td>0.000000</td>\n",
       "      <td>863.890000</td>\n",
       "    </tr>\n",
       "    <tr>\n",
       "      <th>50%</th>\n",
       "      <td>3.500000</td>\n",
       "      <td>39.000000</td>\n",
       "      <td>59.990000</td>\n",
       "      <td>45.990000</td>\n",
       "      <td>0.400000</td>\n",
       "      <td>2735.280000</td>\n",
       "    </tr>\n",
       "    <tr>\n",
       "      <th>75%</th>\n",
       "      <td>4.400000</td>\n",
       "      <td>69.000000</td>\n",
       "      <td>89.990000</td>\n",
       "      <td>77.990000</td>\n",
       "      <td>0.500000</td>\n",
       "      <td>5345.015000</td>\n",
       "    </tr>\n",
       "    <tr>\n",
       "      <th>max</th>\n",
       "      <td>5.000000</td>\n",
       "      <td>223.000000</td>\n",
       "      <td>299.990000</td>\n",
       "      <td>365.000000</td>\n",
       "      <td>0.600000</td>\n",
       "      <td>64203.930000</td>\n",
       "    </tr>\n",
       "  </tbody>\n",
       "</table>\n",
       "</div>"
      ],
      "text/plain": [
       "            rating      reviews  listing_price   sale_price     discount  \\\n",
       "count  3120.000000  3120.000000    3120.000000  3120.000000  3120.000000   \n",
       "mean      3.265801    41.545513      69.719455    60.103035     0.276090   \n",
       "std       1.392685    31.361668      46.586909    41.906852     0.224955   \n",
       "min       0.000000     0.000000       0.000000     4.490000     0.000000   \n",
       "25%       2.600000    12.000000      45.990000    29.990000     0.000000   \n",
       "50%       3.500000    39.000000      59.990000    45.990000     0.400000   \n",
       "75%       4.400000    69.000000      89.990000    77.990000     0.500000   \n",
       "max       5.000000   223.000000     299.990000   365.000000     0.600000   \n",
       "\n",
       "            revenue  \n",
       "count   3120.000000  \n",
       "mean    3951.571263  \n",
       "std     4440.312551  \n",
       "min        0.000000  \n",
       "25%      863.890000  \n",
       "50%     2735.280000  \n",
       "75%     5345.015000  \n",
       "max    64203.930000  "
      ]
     },
     "execution_count": 16,
     "metadata": {},
     "output_type": "execute_result"
    }
   ],
   "source": [
    "sports_df.describe()"
   ]
  },
  {
   "cell_type": "code",
   "execution_count": 17,
   "metadata": {},
   "outputs": [],
   "source": [
    "# There are more than 25% of products with no discount"
   ]
  },
  {
   "cell_type": "code",
   "execution_count": 18,
   "metadata": {},
   "outputs": [
    {
     "data": {
      "text/plain": [
       "product_id         0\n",
       "brand              0\n",
       "product_name       0\n",
       "description        3\n",
       "last_visited     244\n",
       "rating             0\n",
       "reviews            0\n",
       "listing_price      0\n",
       "sale_price         0\n",
       "discount           0\n",
       "revenue            0\n",
       "dtype: int64"
      ]
     },
     "execution_count": 18,
     "metadata": {},
     "output_type": "execute_result"
    }
   ],
   "source": [
    "sports_df.isnull().sum()"
   ]
  },
  {
   "cell_type": "code",
   "execution_count": 19,
   "metadata": {},
   "outputs": [
    {
     "data": {
      "text/html": [
       "<div>\n",
       "<style scoped>\n",
       "    .dataframe tbody tr th:only-of-type {\n",
       "        vertical-align: middle;\n",
       "    }\n",
       "\n",
       "    .dataframe tbody tr th {\n",
       "        vertical-align: top;\n",
       "    }\n",
       "\n",
       "    .dataframe thead th {\n",
       "        text-align: right;\n",
       "    }\n",
       "</style>\n",
       "<table border=\"1\" class=\"dataframe\">\n",
       "  <thead>\n",
       "    <tr style=\"text-align: right;\">\n",
       "      <th></th>\n",
       "      <th>product_id</th>\n",
       "      <th>brand</th>\n",
       "      <th>product_name</th>\n",
       "      <th>description</th>\n",
       "      <th>last_visited</th>\n",
       "      <th>rating</th>\n",
       "      <th>reviews</th>\n",
       "      <th>listing_price</th>\n",
       "      <th>sale_price</th>\n",
       "      <th>discount</th>\n",
       "      <th>revenue</th>\n",
       "    </tr>\n",
       "  </thead>\n",
       "  <tbody>\n",
       "    <tr>\n",
       "      <th>2727</th>\n",
       "      <td>CD4371-001</td>\n",
       "      <td>Nike</td>\n",
       "      <td>Nike React Infinity Run Flyknit</td>\n",
       "      <td>None</td>\n",
       "      <td>2001-05-19 05:55:00</td>\n",
       "      <td>4.6</td>\n",
       "      <td>68.0</td>\n",
       "      <td>0.0</td>\n",
       "      <td>139.95</td>\n",
       "      <td>0.0</td>\n",
       "      <td>17129.88</td>\n",
       "    </tr>\n",
       "    <tr>\n",
       "      <th>2826</th>\n",
       "      <td>CD4372-004</td>\n",
       "      <td>Nike</td>\n",
       "      <td>Nike React Infinity Run Flyknit</td>\n",
       "      <td>None</td>\n",
       "      <td>2012-01-19 12:17:00</td>\n",
       "      <td>4.2</td>\n",
       "      <td>29.0</td>\n",
       "      <td>0.0</td>\n",
       "      <td>139.95</td>\n",
       "      <td>0.0</td>\n",
       "      <td>7305.39</td>\n",
       "    </tr>\n",
       "    <tr>\n",
       "      <th>3030</th>\n",
       "      <td>CD8526-446</td>\n",
       "      <td>Nike</td>\n",
       "      <td>Nike Free X Metcon 2</td>\n",
       "      <td>None</td>\n",
       "      <td>2019-07-18 23:15:00</td>\n",
       "      <td>3.0</td>\n",
       "      <td>7.0</td>\n",
       "      <td>0.0</td>\n",
       "      <td>99.95</td>\n",
       "      <td>0.0</td>\n",
       "      <td>1259.37</td>\n",
       "    </tr>\n",
       "  </tbody>\n",
       "</table>\n",
       "</div>"
      ],
      "text/plain": [
       "      product_id brand                     product_name description  \\\n",
       "2727  CD4371-001  Nike  Nike React Infinity Run Flyknit        None   \n",
       "2826  CD4372-004  Nike  Nike React Infinity Run Flyknit        None   \n",
       "3030  CD8526-446  Nike             Nike Free X Metcon 2        None   \n",
       "\n",
       "            last_visited  rating  reviews  listing_price  sale_price  \\\n",
       "2727 2001-05-19 05:55:00     4.6     68.0            0.0      139.95   \n",
       "2826 2012-01-19 12:17:00     4.2     29.0            0.0      139.95   \n",
       "3030 2019-07-18 23:15:00     3.0      7.0            0.0       99.95   \n",
       "\n",
       "      discount   revenue  \n",
       "2727       0.0  17129.88  \n",
       "2826       0.0   7305.39  \n",
       "3030       0.0   1259.37  "
      ]
     },
     "execution_count": 19,
     "metadata": {},
     "output_type": "execute_result"
    }
   ],
   "source": [
    "sports_df[sports_df.description.isnull()]"
   ]
  },
  {
   "cell_type": "code",
   "execution_count": 20,
   "metadata": {},
   "outputs": [
    {
     "name": "stderr",
     "output_type": "stream",
     "text": [
      "C:\\Users\\THE_DE_V_IL\\AppData\\Local\\Temp\\ipykernel_11572\\737745603.py:1: FutureWarning: Not prepending group keys to the result index of transform-like apply. In the future, the group keys will be included in the index, regardless of whether the applied function returns a like-indexed object.\n",
      "To preserve the previous behavior, use\n",
      "\n",
      "\t>>> .groupby(..., group_keys=False)\n",
      "\n",
      "To adopt the future behavior and silence this warning, use \n",
      "\n",
      "\t>>> .groupby(..., group_keys=True)\n",
      "  sports_df['description'] = sports_df.groupby('product_name')['description'].apply(lambda x: x.fillna(method='ffill'))\n"
     ]
    }
   ],
   "source": [
    "sports_df['description'] = sports_df.groupby('product_name')['description'].apply(lambda x: x.fillna(method='ffill'))"
   ]
  },
  {
   "cell_type": "code",
   "execution_count": 21,
   "metadata": {},
   "outputs": [
    {
     "data": {
      "text/html": [
       "<div>\n",
       "<style scoped>\n",
       "    .dataframe tbody tr th:only-of-type {\n",
       "        vertical-align: middle;\n",
       "    }\n",
       "\n",
       "    .dataframe tbody tr th {\n",
       "        vertical-align: top;\n",
       "    }\n",
       "\n",
       "    .dataframe thead th {\n",
       "        text-align: right;\n",
       "    }\n",
       "</style>\n",
       "<table border=\"1\" class=\"dataframe\">\n",
       "  <thead>\n",
       "    <tr style=\"text-align: right;\">\n",
       "      <th></th>\n",
       "      <th>product_id</th>\n",
       "      <th>brand</th>\n",
       "      <th>product_name</th>\n",
       "      <th>description</th>\n",
       "      <th>last_visited</th>\n",
       "      <th>rating</th>\n",
       "      <th>reviews</th>\n",
       "      <th>listing_price</th>\n",
       "      <th>sale_price</th>\n",
       "      <th>discount</th>\n",
       "      <th>revenue</th>\n",
       "    </tr>\n",
       "  </thead>\n",
       "  <tbody>\n",
       "    <tr>\n",
       "      <th>2727</th>\n",
       "      <td>CD4371-001</td>\n",
       "      <td>Nike</td>\n",
       "      <td>Nike React Infinity Run Flyknit</td>\n",
       "      <td>None</td>\n",
       "      <td>2001-05-19 05:55:00</td>\n",
       "      <td>4.6</td>\n",
       "      <td>68.0</td>\n",
       "      <td>0.0</td>\n",
       "      <td>139.95</td>\n",
       "      <td>0.0</td>\n",
       "      <td>17129.88</td>\n",
       "    </tr>\n",
       "    <tr>\n",
       "      <th>2826</th>\n",
       "      <td>CD4372-004</td>\n",
       "      <td>Nike</td>\n",
       "      <td>Nike React Infinity Run Flyknit</td>\n",
       "      <td>None</td>\n",
       "      <td>2012-01-19 12:17:00</td>\n",
       "      <td>4.2</td>\n",
       "      <td>29.0</td>\n",
       "      <td>0.0</td>\n",
       "      <td>139.95</td>\n",
       "      <td>0.0</td>\n",
       "      <td>7305.39</td>\n",
       "    </tr>\n",
       "  </tbody>\n",
       "</table>\n",
       "</div>"
      ],
      "text/plain": [
       "      product_id brand                     product_name description  \\\n",
       "2727  CD4371-001  Nike  Nike React Infinity Run Flyknit        None   \n",
       "2826  CD4372-004  Nike  Nike React Infinity Run Flyknit        None   \n",
       "\n",
       "            last_visited  rating  reviews  listing_price  sale_price  \\\n",
       "2727 2001-05-19 05:55:00     4.6     68.0            0.0      139.95   \n",
       "2826 2012-01-19 12:17:00     4.2     29.0            0.0      139.95   \n",
       "\n",
       "      discount   revenue  \n",
       "2727       0.0  17129.88  \n",
       "2826       0.0   7305.39  "
      ]
     },
     "execution_count": 21,
     "metadata": {},
     "output_type": "execute_result"
    }
   ],
   "source": [
    "sports_df[sports_df.description.isnull()]"
   ]
  },
  {
   "cell_type": "code",
   "execution_count": 22,
   "metadata": {},
   "outputs": [],
   "source": [
    "# i think we have to manually fill these,i have the description copied of the products from internet, this is actually not a necessary step, but i'm doing it anyway.\n",
    "sports_df.description.fillna(\"The Nike React Infinity Run Flyknit is a running shoe from Nike that features a Flyknit upper, a React foam midsole, and a rubber outsole. The shoe is marketed as a comfortable and supportive option for daily training and long-distance running.\",inplace=True)\n"
   ]
  },
  {
   "cell_type": "code",
   "execution_count": 23,
   "metadata": {},
   "outputs": [],
   "source": [
    "# creating categories"
   ]
  },
  {
   "cell_type": "code",
   "execution_count": 24,
   "metadata": {},
   "outputs": [],
   "source": [
    "# creating gender category\n",
    "def get_gender(row):\n",
    "    text = str(row['description']) + ' ' + str(row['product_name'])\n",
    "    if any(word in text.lower() for word in ['women', 'female', 'girl','woman']):\n",
    "        return 'female'\n",
    "    elif any(word in text.lower() for word in ['men', 'male', 'boy','man']):\n",
    "        return 'male'\n",
    "    else:\n",
    "        return 'common'\n",
    "\n",
    "sports_df['gender'] = sports_df.apply(lambda row: get_gender(row), axis=1)\n"
   ]
  },
  {
   "cell_type": "code",
   "execution_count": 25,
   "metadata": {},
   "outputs": [],
   "source": [
    "# Define the keywords for footwear products\n",
    "footwear_keywords = [\"shoe\",\"foot\", \"slipper\"]\n",
    "\n",
    "# Create a new column named \"type\" in the sports table\n",
    "sports_df.loc[sports_df[\"description\"].str.contains('|'.join(footwear_keywords),case=False), \"type\"] = \"footwear\"\n",
    "sports_df.loc[~sports_df[\"description\"].str.contains('|'.join(footwear_keywords),case=False), \"type\"] = \"clothing\"\n",
    "\n"
   ]
  },
  {
   "cell_type": "code",
   "execution_count": 26,
   "metadata": {},
   "outputs": [
    {
     "data": {
      "text/plain": [
       "footwear    2701\n",
       "clothing     419\n",
       "Name: type, dtype: int64"
      ]
     },
     "execution_count": 26,
     "metadata": {},
     "output_type": "execute_result"
    }
   ],
   "source": [
    "sports_df[\"type\"].value_counts()"
   ]
  },
  {
   "cell_type": "code",
   "execution_count": 29,
   "metadata": {},
   "outputs": [
    {
     "data": {
      "text/plain": [
       "3120"
      ]
     },
     "execution_count": 29,
     "metadata": {},
     "output_type": "execute_result"
    }
   ],
   "source": [
    "sports_df.to_sql('sports_df',engine,if_exists='replace')"
   ]
  },
  {
   "cell_type": "code",
   "execution_count": 30,
   "metadata": {},
   "outputs": [
    {
     "data": {
      "text/plain": [
       "Index(['product_id', 'brand', 'product_name', 'description', 'last_visited',\n",
       "       'rating', 'reviews', 'listing_price', 'sale_price', 'discount',\n",
       "       'revenue', 'gender', 'type'],\n",
       "      dtype='object')"
      ]
     },
     "execution_count": 30,
     "metadata": {},
     "output_type": "execute_result"
    }
   ],
   "source": [
    "sports_df.columns"
   ]
  },
  {
   "cell_type": "markdown",
   "metadata": {},
   "source": [
    "# SQL QUERIES"
   ]
  },
  {
   "cell_type": "code",
   "execution_count": 31,
   "metadata": {},
   "outputs": [
    {
     "name": "stderr",
     "output_type": "stream",
     "text": [
      "C:\\Users\\THE_DE_V_IL\\AppData\\Local\\Temp\\ipykernel_11572\\3987131563.py:2: UserWarning: pandas only supports SQLAlchemy connectable (engine/connection) or database string URI or sqlite3 DBAPI2 connection. Other DBAPI2 objects are not tested. Please consider using SQLAlchemy.\n",
      "  price_cat=pd.read_sql(\"\"\"SELECT brand, COUNT(product_id) as count,SUM(revenue) as total_revenue,\n"
     ]
    },
    {
     "data": {
      "text/html": [
       "<div>\n",
       "<style scoped>\n",
       "    .dataframe tbody tr th:only-of-type {\n",
       "        vertical-align: middle;\n",
       "    }\n",
       "\n",
       "    .dataframe tbody tr th {\n",
       "        vertical-align: top;\n",
       "    }\n",
       "\n",
       "    .dataframe thead th {\n",
       "        text-align: right;\n",
       "    }\n",
       "</style>\n",
       "<table border=\"1\" class=\"dataframe\">\n",
       "  <thead>\n",
       "    <tr style=\"text-align: right;\">\n",
       "      <th></th>\n",
       "      <th>brand</th>\n",
       "      <th>count</th>\n",
       "      <th>total_revenue</th>\n",
       "      <th>price_category</th>\n",
       "    </tr>\n",
       "  </thead>\n",
       "  <tbody>\n",
       "    <tr>\n",
       "      <th>0</th>\n",
       "      <td>Adidas</td>\n",
       "      <td>849</td>\n",
       "      <td>4626980.07</td>\n",
       "      <td>Expensive</td>\n",
       "    </tr>\n",
       "    <tr>\n",
       "      <th>1</th>\n",
       "      <td>Adidas</td>\n",
       "      <td>1009</td>\n",
       "      <td>3128834.39</td>\n",
       "      <td>Average</td>\n",
       "    </tr>\n",
       "    <tr>\n",
       "      <th>2</th>\n",
       "      <td>Adidas</td>\n",
       "      <td>307</td>\n",
       "      <td>3014316.83</td>\n",
       "      <td>Elite</td>\n",
       "    </tr>\n",
       "    <tr>\n",
       "      <th>3</th>\n",
       "      <td>Adidas</td>\n",
       "      <td>410</td>\n",
       "      <td>756487.79</td>\n",
       "      <td>Budget</td>\n",
       "    </tr>\n",
       "    <tr>\n",
       "      <th>4</th>\n",
       "      <td>Nike</td>\n",
       "      <td>357</td>\n",
       "      <td>595341.02</td>\n",
       "      <td>Budget</td>\n",
       "    </tr>\n",
       "    <tr>\n",
       "      <th>5</th>\n",
       "      <td>Nike</td>\n",
       "      <td>82</td>\n",
       "      <td>128475.59</td>\n",
       "      <td>Elite</td>\n",
       "    </tr>\n",
       "    <tr>\n",
       "      <th>6</th>\n",
       "      <td>Nike</td>\n",
       "      <td>90</td>\n",
       "      <td>71843.15</td>\n",
       "      <td>Expensive</td>\n",
       "    </tr>\n",
       "    <tr>\n",
       "      <th>7</th>\n",
       "      <td>Nike</td>\n",
       "      <td>16</td>\n",
       "      <td>6623.50</td>\n",
       "      <td>Average</td>\n",
       "    </tr>\n",
       "  </tbody>\n",
       "</table>\n",
       "</div>"
      ],
      "text/plain": [
       "    brand  count  total_revenue price_category\n",
       "0  Adidas    849     4626980.07      Expensive\n",
       "1  Adidas   1009     3128834.39        Average\n",
       "2  Adidas    307     3014316.83          Elite\n",
       "3  Adidas    410      756487.79         Budget\n",
       "4    Nike    357      595341.02         Budget\n",
       "5    Nike     82      128475.59          Elite\n",
       "6    Nike     90       71843.15      Expensive\n",
       "7    Nike     16        6623.50        Average"
      ]
     },
     "execution_count": 31,
     "metadata": {},
     "output_type": "execute_result"
    }
   ],
   "source": [
    "\n",
    "# creating price category\n",
    "price_cat=pd.read_sql(\"\"\"SELECT brand, COUNT(product_id) as count,SUM(revenue) as total_revenue,\n",
    "cASE\n",
    "WHEN listing_price < 43 THEN 'Budget'\n",
    "WHEN listing_price <74 THEN 'Average'\n",
    "WHEN listing_price <129 THEN 'Expensive'\n",
    "WHEN listing_price>129 THEN 'Elite'\n",
    "END AS price_category\n",
    "FROM sports_df\n",
    "GROUP BY brand,price_category\n",
    "ORDER BY total_revenue DESC;\n",
    "\"\"\", conn)\n",
    "price_cat"
   ]
  },
  {
   "cell_type": "code",
   "execution_count": 32,
   "metadata": {},
   "outputs": [],
   "source": [
    "# As you can see, Most sold products by nike are within budget\n",
    "# Adidas expensive category has the highest revenue"
   ]
  },
  {
   "cell_type": "code",
   "execution_count": 90,
   "metadata": {},
   "outputs": [
    {
     "name": "stderr",
     "output_type": "stream",
     "text": [
      "C:\\Users\\THE_DE_V_IL\\AppData\\Local\\Temp\\ipykernel_11572\\311966146.py:1: UserWarning: pandas only supports SQLAlchemy connectable (engine/connection) or database string URI or sqlite3 DBAPI2 connection. Other DBAPI2 objects are not tested. Please consider using SQLAlchemy.\n",
      "  Monthly_reviews=pd.read_sql(\"\"\"SELECT brand, MONTH(last_visited) as month, COUNT(product_id) as num_reviews, SUM(revenue) as total_revenue\n"
     ]
    },
    {
     "data": {
      "text/html": [
       "<div>\n",
       "<style scoped>\n",
       "    .dataframe tbody tr th:only-of-type {\n",
       "        vertical-align: middle;\n",
       "    }\n",
       "\n",
       "    .dataframe tbody tr th {\n",
       "        vertical-align: top;\n",
       "    }\n",
       "\n",
       "    .dataframe thead th {\n",
       "        text-align: right;\n",
       "    }\n",
       "</style>\n",
       "<table border=\"1\" class=\"dataframe\">\n",
       "  <thead>\n",
       "    <tr style=\"text-align: right;\">\n",
       "      <th></th>\n",
       "      <th>brand</th>\n",
       "      <th>month</th>\n",
       "      <th>num_reviews</th>\n",
       "      <th>total_revenue</th>\n",
       "    </tr>\n",
       "  </thead>\n",
       "  <tbody>\n",
       "    <tr>\n",
       "      <th>0</th>\n",
       "      <td>Adidas</td>\n",
       "      <td>1</td>\n",
       "      <td>253</td>\n",
       "      <td>1085801.88</td>\n",
       "    </tr>\n",
       "    <tr>\n",
       "      <th>1</th>\n",
       "      <td>Adidas</td>\n",
       "      <td>2</td>\n",
       "      <td>272</td>\n",
       "      <td>1153606.20</td>\n",
       "    </tr>\n",
       "    <tr>\n",
       "      <th>2</th>\n",
       "      <td>Adidas</td>\n",
       "      <td>3</td>\n",
       "      <td>269</td>\n",
       "      <td>1160076.93</td>\n",
       "    </tr>\n",
       "    <tr>\n",
       "      <th>3</th>\n",
       "      <td>Adidas</td>\n",
       "      <td>4</td>\n",
       "      <td>180</td>\n",
       "      <td>854969.43</td>\n",
       "    </tr>\n",
       "    <tr>\n",
       "      <th>4</th>\n",
       "      <td>Adidas</td>\n",
       "      <td>5</td>\n",
       "      <td>172</td>\n",
       "      <td>708602.14</td>\n",
       "    </tr>\n",
       "    <tr>\n",
       "      <th>5</th>\n",
       "      <td>Adidas</td>\n",
       "      <td>6</td>\n",
       "      <td>159</td>\n",
       "      <td>727417.50</td>\n",
       "    </tr>\n",
       "    <tr>\n",
       "      <th>6</th>\n",
       "      <td>Adidas</td>\n",
       "      <td>7</td>\n",
       "      <td>170</td>\n",
       "      <td>779534.42</td>\n",
       "    </tr>\n",
       "    <tr>\n",
       "      <th>7</th>\n",
       "      <td>Adidas</td>\n",
       "      <td>8</td>\n",
       "      <td>189</td>\n",
       "      <td>889346.96</td>\n",
       "    </tr>\n",
       "    <tr>\n",
       "      <th>8</th>\n",
       "      <td>Adidas</td>\n",
       "      <td>9</td>\n",
       "      <td>181</td>\n",
       "      <td>879667.36</td>\n",
       "    </tr>\n",
       "    <tr>\n",
       "      <th>9</th>\n",
       "      <td>Adidas</td>\n",
       "      <td>10</td>\n",
       "      <td>192</td>\n",
       "      <td>908125.19</td>\n",
       "    </tr>\n",
       "    <tr>\n",
       "      <th>10</th>\n",
       "      <td>Adidas</td>\n",
       "      <td>11</td>\n",
       "      <td>150</td>\n",
       "      <td>688611.13</td>\n",
       "    </tr>\n",
       "    <tr>\n",
       "      <th>11</th>\n",
       "      <td>Adidas</td>\n",
       "      <td>12</td>\n",
       "      <td>190</td>\n",
       "      <td>796046.29</td>\n",
       "    </tr>\n",
       "    <tr>\n",
       "      <th>12</th>\n",
       "      <td>Nike</td>\n",
       "      <td>1</td>\n",
       "      <td>52</td>\n",
       "      <td>57580.91</td>\n",
       "    </tr>\n",
       "    <tr>\n",
       "      <th>13</th>\n",
       "      <td>Nike</td>\n",
       "      <td>2</td>\n",
       "      <td>52</td>\n",
       "      <td>63084.49</td>\n",
       "    </tr>\n",
       "    <tr>\n",
       "      <th>14</th>\n",
       "      <td>Nike</td>\n",
       "      <td>3</td>\n",
       "      <td>55</td>\n",
       "      <td>117687.39</td>\n",
       "    </tr>\n",
       "    <tr>\n",
       "      <th>15</th>\n",
       "      <td>Nike</td>\n",
       "      <td>4</td>\n",
       "      <td>42</td>\n",
       "      <td>52705.66</td>\n",
       "    </tr>\n",
       "    <tr>\n",
       "      <th>16</th>\n",
       "      <td>Nike</td>\n",
       "      <td>5</td>\n",
       "      <td>41</td>\n",
       "      <td>123504.91</td>\n",
       "    </tr>\n",
       "    <tr>\n",
       "      <th>17</th>\n",
       "      <td>Nike</td>\n",
       "      <td>6</td>\n",
       "      <td>43</td>\n",
       "      <td>49765.20</td>\n",
       "    </tr>\n",
       "    <tr>\n",
       "      <th>18</th>\n",
       "      <td>Nike</td>\n",
       "      <td>7</td>\n",
       "      <td>37</td>\n",
       "      <td>103505.01</td>\n",
       "    </tr>\n",
       "    <tr>\n",
       "      <th>19</th>\n",
       "      <td>Nike</td>\n",
       "      <td>8</td>\n",
       "      <td>29</td>\n",
       "      <td>31573.47</td>\n",
       "    </tr>\n",
       "    <tr>\n",
       "      <th>20</th>\n",
       "      <td>Nike</td>\n",
       "      <td>9</td>\n",
       "      <td>28</td>\n",
       "      <td>35364.57</td>\n",
       "    </tr>\n",
       "    <tr>\n",
       "      <th>21</th>\n",
       "      <td>Nike</td>\n",
       "      <td>10</td>\n",
       "      <td>47</td>\n",
       "      <td>29712.12</td>\n",
       "    </tr>\n",
       "    <tr>\n",
       "      <th>22</th>\n",
       "      <td>Nike</td>\n",
       "      <td>11</td>\n",
       "      <td>38</td>\n",
       "      <td>36520.53</td>\n",
       "    </tr>\n",
       "    <tr>\n",
       "      <th>23</th>\n",
       "      <td>Nike</td>\n",
       "      <td>12</td>\n",
       "      <td>35</td>\n",
       "      <td>60556.84</td>\n",
       "    </tr>\n",
       "  </tbody>\n",
       "</table>\n",
       "</div>"
      ],
      "text/plain": [
       "     brand  month  num_reviews  total_revenue\n",
       "0   Adidas      1          253     1085801.88\n",
       "1   Adidas      2          272     1153606.20\n",
       "2   Adidas      3          269     1160076.93\n",
       "3   Adidas      4          180      854969.43\n",
       "4   Adidas      5          172      708602.14\n",
       "5   Adidas      6          159      727417.50\n",
       "6   Adidas      7          170      779534.42\n",
       "7   Adidas      8          189      889346.96\n",
       "8   Adidas      9          181      879667.36\n",
       "9   Adidas     10          192      908125.19\n",
       "10  Adidas     11          150      688611.13\n",
       "11  Adidas     12          190      796046.29\n",
       "12    Nike      1           52       57580.91\n",
       "13    Nike      2           52       63084.49\n",
       "14    Nike      3           55      117687.39\n",
       "15    Nike      4           42       52705.66\n",
       "16    Nike      5           41      123504.91\n",
       "17    Nike      6           43       49765.20\n",
       "18    Nike      7           37      103505.01\n",
       "19    Nike      8           29       31573.47\n",
       "20    Nike      9           28       35364.57\n",
       "21    Nike     10           47       29712.12\n",
       "22    Nike     11           38       36520.53\n",
       "23    Nike     12           35       60556.84"
      ]
     },
     "execution_count": 90,
     "metadata": {},
     "output_type": "execute_result"
    }
   ],
   "source": [
    "\n",
    "\n",
    "Monthly_reviews=pd.read_sql(\"\"\"SELECT brand, MONTH(last_visited) as month, COUNT(product_id) as num_reviews, SUM(revenue) as total_revenue\n",
    "FROM sports_df\n",
    "WHERE MONTH(last_visited) IS NOT NULL\n",
    "GROUP BY brand, month\n",
    "ORDER BY brand,month;\"\"\" , conn)\n",
    "Monthly_reviews"
   ]
  },
  {
   "cell_type": "markdown",
   "metadata": {},
   "source": [
    "Looks like product reviews are highest in the first quarter of the calendar year, so there is scope to run experiments aiming to increase the volume of reviews in the other nine months!"
   ]
  },
  {
   "cell_type": "code",
   "execution_count": 34,
   "metadata": {},
   "outputs": [
    {
     "name": "stderr",
     "output_type": "stream",
     "text": [
      "C:\\Users\\THE_DE_V_IL\\AppData\\Local\\Temp\\ipykernel_11572\\732571619.py:2: UserWarning: pandas only supports SQLAlchemy connectable (engine/connection) or database string URI or sqlite3 DBAPI2 connection. Other DBAPI2 objects are not tested. Please consider using SQLAlchemy.\n",
      "  sports_type=pd.read_sql(\"\"\"SELECT brand, type, SUM(revenue) as total_revenue, COUNT(product_id) as count\n"
     ]
    },
    {
     "data": {
      "text/html": [
       "<div>\n",
       "<style scoped>\n",
       "    .dataframe tbody tr th:only-of-type {\n",
       "        vertical-align: middle;\n",
       "    }\n",
       "\n",
       "    .dataframe tbody tr th {\n",
       "        vertical-align: top;\n",
       "    }\n",
       "\n",
       "    .dataframe thead th {\n",
       "        text-align: right;\n",
       "    }\n",
       "</style>\n",
       "<table border=\"1\" class=\"dataframe\">\n",
       "  <thead>\n",
       "    <tr style=\"text-align: right;\">\n",
       "      <th></th>\n",
       "      <th>brand</th>\n",
       "      <th>type</th>\n",
       "      <th>total_revenue</th>\n",
       "      <th>count</th>\n",
       "    </tr>\n",
       "  </thead>\n",
       "  <tbody>\n",
       "    <tr>\n",
       "      <th>0</th>\n",
       "      <td>Adidas</td>\n",
       "      <td>clothing</td>\n",
       "      <td>555479.47</td>\n",
       "      <td>123</td>\n",
       "    </tr>\n",
       "    <tr>\n",
       "      <th>1</th>\n",
       "      <td>Adidas</td>\n",
       "      <td>footwear</td>\n",
       "      <td>10971139.61</td>\n",
       "      <td>2452</td>\n",
       "    </tr>\n",
       "    <tr>\n",
       "      <th>2</th>\n",
       "      <td>Nike</td>\n",
       "      <td>clothing</td>\n",
       "      <td>436336.82</td>\n",
       "      <td>296</td>\n",
       "    </tr>\n",
       "    <tr>\n",
       "      <th>3</th>\n",
       "      <td>Nike</td>\n",
       "      <td>footwear</td>\n",
       "      <td>365946.44</td>\n",
       "      <td>249</td>\n",
       "    </tr>\n",
       "  </tbody>\n",
       "</table>\n",
       "</div>"
      ],
      "text/plain": [
       "    brand      type  total_revenue  count\n",
       "0  Adidas  clothing      555479.47    123\n",
       "1  Adidas  footwear    10971139.61   2452\n",
       "2    Nike  clothing      436336.82    296\n",
       "3    Nike  footwear      365946.44    249"
      ]
     },
     "execution_count": 34,
     "metadata": {},
     "output_type": "execute_result"
    }
   ],
   "source": [
    "\n",
    "# checking for revenue by type\n",
    "sports_type=pd.read_sql(\"\"\"SELECT brand, type, SUM(revenue) as total_revenue, COUNT(product_id) as count\n",
    "FROM sports_df\n",
    "GROUP BY brand, type\n",
    "ORDER BY brand,type;\"\"\" , conn)\n",
    "sports_type"
   ]
  },
  {
   "cell_type": "code",
   "execution_count": 35,
   "metadata": {},
   "outputs": [],
   "source": [
    "# It seems that maojority of adidas is footwears, nike maintains clothing and footwear sales"
   ]
  },
  {
   "cell_type": "code",
   "execution_count": 36,
   "metadata": {},
   "outputs": [],
   "source": [
    "# we can visualize these later"
   ]
  },
  {
   "attachments": {},
   "cell_type": "markdown",
   "metadata": {},
   "source": [
    "# Visualizations\n"
   ]
  },
  {
   "cell_type": "code",
   "execution_count": 52,
   "metadata": {},
   "outputs": [
    {
     "data": {
      "text/plain": [
       "Text(0, 0.5, 'Number of Products')"
      ]
     },
     "execution_count": 52,
     "metadata": {},
     "output_type": "execute_result"
    },
    {
     "data": {
      "image/png": "[encoded data removed]",
      "text/plain": [
       "<Figure size 1500x400 with 3 Axes>"
      ]
     },
     "metadata": {},
     "output_type": "display_data"
    }
   ],
   "source": [
    "revenue_per_brand = sports_df.groupby('brand')['revenue'].sum().reset_index()\n",
    "avg_revenue_per_brand =  sports_df.groupby('brand')['revenue'].mean().reset_index()\n",
    "count_per_brand = sports_df.groupby('brand')['product_id'].count().reset_index()\n",
    "\n",
    "# Create the bar plot\n",
    "fig, (ax1, ax2, ax3) = plt.subplots(1, 3, figsize=[15, 4])\n",
    "sns.barplot(x='brand', y='revenue', data=revenue_per_brand, ax=ax1)\n",
    "\n",
    "# Set the plot title and axis labels\n",
    "ax1.set_title('Total revenue by Brand')\n",
    "ax1.set_xlabel('Brand')\n",
    "ax1.set_ylabel('Revenue')\n",
    "\n",
    "sns.barplot(x='brand', y='revenue', data=avg_revenue_per_brand, ax=ax2)\n",
    "\n",
    "# Set the plot title and axis labels\n",
    "ax2.set_title('Average revenue by Brand')\n",
    "ax2.set_xlabel('Brand')\n",
    "ax2.set_ylabel('Average Revenue')\n",
    "\n",
    "sns.barplot(x='brand', y='product_id', data=count_per_brand, ax=ax3)\n",
    "\n",
    "# Set the plot title and axis labels\n",
    "ax3.set_title('Number of Products by Brand')\n",
    "ax3.set_xlabel('Brand')\n",
    "ax3.set_ylabel('Number of Products')\n"
   ]
  },
  {
   "cell_type": "code",
   "execution_count": 55,
   "metadata": {},
   "outputs": [],
   "source": [
    "# Nike has very low sale, poor revenue, and average revnue product"
   ]
  },
  {
   "cell_type": "code",
   "execution_count": null,
   "metadata": {},
   "outputs": [],
   "source": [
    "nike = SPORT_TABLE.loc[SPORT_TABLE['brand'] == 'Nike']\n",
    "adidas= SPORT_TABLE.loc[SPORT_TABLE['brand'] == 'Adidas']\n"
   ]
  },
  {
   "attachments": {},
   "cell_type": "markdown",
   "metadata": {},
   "source": [
    "# DISTRIBUTION PLOTS\n"
   ]
  },
  {
   "cell_type": "code",
   "execution_count": 56,
   "metadata": {},
   "outputs": [
    {
     "data": {
      "text/plain": [
       "<AxesSubplot: xlabel='sale_price', ylabel='Count'>"
      ]
     },
     "execution_count": 56,
     "metadata": {},
     "output_type": "execute_result"
    },
    {
     "data": {
      "image/png": "[encoded data removed]",
      "text/plain": [
       "<Figure size 640x480 with 1 Axes>"
      ]
     },
     "metadata": {},
     "output_type": "display_data"
    }
   ],
   "source": [
    "sns.histplot(x='sale_price',data=sports_df,hue='brand')"
   ]
  },
  {
   "cell_type": "code",
   "execution_count": 58,
   "metadata": {},
   "outputs": [],
   "source": [
    "# sale_price is heavily right skewed"
   ]
  },
  {
   "cell_type": "code",
   "execution_count": 59,
   "metadata": {},
   "outputs": [
    {
     "data": {
      "text/plain": [
       "<AxesSubplot: xlabel='rating', ylabel='Count'>"
      ]
     },
     "execution_count": 59,
     "metadata": {},
     "output_type": "execute_result"
    },
    {
     "data": {
      "image/png": "[encoded data removed]",
      "text/plain": [
       "<Figure size 640x480 with 1 Axes>"
      ]
     },
     "metadata": {},
     "output_type": "display_data"
    }
   ],
   "source": [
    "sns.histplot(x='rating',data=sports_df,hue='brand')"
   ]
  },
  {
   "cell_type": "code",
   "execution_count": 60,
   "metadata": {},
   "outputs": [],
   "source": [
    "# Mixed ratings for adidas, nike has a lot of worst rating and some good ones"
   ]
  },
  {
   "cell_type": "code",
   "execution_count": 61,
   "metadata": {},
   "outputs": [
    {
     "data": {
      "text/plain": [
       "<AxesSubplot: xlabel='discount', ylabel='Count'>"
      ]
     },
     "execution_count": 61,
     "metadata": {},
     "output_type": "execute_result"
    },
    {
     "data": {
      "image/png": "[encoded data removed]",
      "text/plain": [
       "<Figure size 640x480 with 1 Axes>"
      ]
     },
     "metadata": {},
     "output_type": "display_data"
    }
   ],
   "source": [
    "sns.histplot(x='discount',data=sports_df,hue='brand')"
   ]
  },
  {
   "cell_type": "code",
   "execution_count": 62,
   "metadata": {},
   "outputs": [],
   "source": [
    "# nike has no discount, most adidas discount are of 50%"
   ]
  },
  {
   "cell_type": "code",
   "execution_count": 63,
   "metadata": {},
   "outputs": [
    {
     "data": {
      "text/plain": [
       "<AxesSubplot: xlabel='brand', ylabel='sale_price'>"
      ]
     },
     "execution_count": 63,
     "metadata": {},
     "output_type": "execute_result"
    },
    {
     "data": {
      "image/png": "[encoded data removed]",
      "text/plain": [
       "<Figure size 640x480 with 1 Axes>"
      ]
     },
     "metadata": {},
     "output_type": "display_data"
    }
   ],
   "source": [
    "sns.boxplot(x='brand',y='sale_price',data=sports_df,sym='')  "
   ]
  },
  {
   "cell_type": "code",
   "execution_count": 64,
   "metadata": {},
   "outputs": [],
   "source": [
    "# Nike has high sales value range"
   ]
  },
  {
   "attachments": {},
   "cell_type": "markdown",
   "metadata": {},
   "source": [
    "### Sales by type"
   ]
  },
  {
   "cell_type": "code",
   "execution_count": 69,
   "metadata": {},
   "outputs": [
    {
     "data": {
      "text/html": [
       "<div>\n",
       "<style scoped>\n",
       "    .dataframe tbody tr th:only-of-type {\n",
       "        vertical-align: middle;\n",
       "    }\n",
       "\n",
       "    .dataframe tbody tr th {\n",
       "        vertical-align: top;\n",
       "    }\n",
       "\n",
       "    .dataframe thead th {\n",
       "        text-align: right;\n",
       "    }\n",
       "</style>\n",
       "<table border=\"1\" class=\"dataframe\">\n",
       "  <thead>\n",
       "    <tr style=\"text-align: right;\">\n",
       "      <th></th>\n",
       "      <th>brand</th>\n",
       "      <th>type</th>\n",
       "      <th>total_revenue</th>\n",
       "      <th>count</th>\n",
       "    </tr>\n",
       "  </thead>\n",
       "  <tbody>\n",
       "    <tr>\n",
       "      <th>0</th>\n",
       "      <td>Adidas</td>\n",
       "      <td>clothing</td>\n",
       "      <td>555479.47</td>\n",
       "      <td>123</td>\n",
       "    </tr>\n",
       "    <tr>\n",
       "      <th>1</th>\n",
       "      <td>Adidas</td>\n",
       "      <td>footwear</td>\n",
       "      <td>10971139.61</td>\n",
       "      <td>2452</td>\n",
       "    </tr>\n",
       "    <tr>\n",
       "      <th>2</th>\n",
       "      <td>Nike</td>\n",
       "      <td>clothing</td>\n",
       "      <td>436336.82</td>\n",
       "      <td>296</td>\n",
       "    </tr>\n",
       "    <tr>\n",
       "      <th>3</th>\n",
       "      <td>Nike</td>\n",
       "      <td>footwear</td>\n",
       "      <td>365946.44</td>\n",
       "      <td>249</td>\n",
       "    </tr>\n",
       "  </tbody>\n",
       "</table>\n",
       "</div>"
      ],
      "text/plain": [
       "    brand      type  total_revenue  count\n",
       "0  Adidas  clothing      555479.47    123\n",
       "1  Adidas  footwear    10971139.61   2452\n",
       "2    Nike  clothing      436336.82    296\n",
       "3    Nike  footwear      365946.44    249"
      ]
     },
     "execution_count": 69,
     "metadata": {},
     "output_type": "execute_result"
    }
   ],
   "source": [
    "sports_type"
   ]
  },
  {
   "cell_type": "code",
   "execution_count": 81,
   "metadata": {},
   "outputs": [
    {
     "data": {
      "image/png": "[encoded data removed]",
      "text/plain": [
       "<Figure size 1200x600 with 2 Axes>"
      ]
     },
     "metadata": {},
     "output_type": "display_data"
    }
   ],
   "source": [
    "fig,(ax1,ax2)=plt.subplots(1,2,figsize=[12,6])\n",
    "\n",
    "sns.barplot(x='type',y='total_revenue',data=sports_type[sports_type.brand=='Adidas'],ax=ax1)\n",
    "sns.barplot(x='type',y='total_revenue',data=sports_type[sports_type.brand=='Nike'],ax=ax2)\n",
    "ax1.set_title('Adidas Total Revenue by Product Type')\n",
    "ax1.set_xlabel('Product Type')\n",
    "ax1.set_ylabel('Total Revenue')\n",
    "ax2.set_title('Nike Total Revenue by Product Type')\n",
    "ax2.set_xlabel('Product Type')\n",
    "ax2.set_ylabel('Total Revenue')\n",
    "plt.show()"
   ]
  },
  {
   "cell_type": "code",
   "execution_count": 79,
   "metadata": {},
   "outputs": [],
   "source": [
    "# we have already seen that the Adidas has low clothing products while Nike has maintained both categories"
   ]
  },
  {
   "cell_type": "code",
   "execution_count": 82,
   "metadata": {},
   "outputs": [
    {
     "data": {
      "text/plain": [
       "<AxesSubplot: xlabel='brand', ylabel='revenue'>"
      ]
     },
     "execution_count": 82,
     "metadata": {},
     "output_type": "execute_result"
    },
    {
     "data": {
      "image/png": "[encoded data removed]",
      "text/plain": [
       "<Figure size 640x480 with 1 Axes>"
      ]
     },
     "metadata": {},
     "output_type": "display_data"
    }
   ],
   "source": [
    "mean_rev_gen= sports_df.groupby(['brand','gender'])['revenue'].mean().reset_index()\n",
    "sns.barplot(x='brand',y='revenue',data=mean_rev_gen,hue='gender')"
   ]
  },
  {
   "cell_type": "code",
   "execution_count": 84,
   "metadata": {},
   "outputs": [],
   "source": [
    "#The most peoples who buys products from nike are males, Adidas provides More common/unisex type products"
   ]
  },
  {
   "cell_type": "code",
   "execution_count": 85,
   "metadata": {},
   "outputs": [
    {
     "data": {
      "text/plain": [
       "<AxesSubplot: xlabel='listing_price', ylabel='sale_price'>"
      ]
     },
     "execution_count": 85,
     "metadata": {},
     "output_type": "execute_result"
    },
    {
     "data": {
      "image/png": "[encoded data removed]",
      "text/plain": [
       "<Figure size 640x480 with 1 Axes>"
      ]
     },
     "metadata": {},
     "output_type": "display_data"
    }
   ],
   "source": [
    "sns.scatterplot(x='listing_price',y='sale_price',data=sports_df,hue='brand')"
   ]
  },
  {
   "cell_type": "code",
   "execution_count": 86,
   "metadata": {},
   "outputs": [],
   "source": [
    "# nike has lot of products with listing price as 0, one reason for this is, since they dont provide discount, they restrict the listing price to be hidden."
   ]
  },
  {
   "cell_type": "code",
   "execution_count": 96,
   "metadata": {},
   "outputs": [
    {
     "data": {
      "text/html": [
       "<div>\n",
       "<style scoped>\n",
       "    .dataframe tbody tr th:only-of-type {\n",
       "        vertical-align: middle;\n",
       "    }\n",
       "\n",
       "    .dataframe tbody tr th {\n",
       "        vertical-align: top;\n",
       "    }\n",
       "\n",
       "    .dataframe thead th {\n",
       "        text-align: right;\n",
       "    }\n",
       "</style>\n",
       "<table border=\"1\" class=\"dataframe\">\n",
       "  <thead>\n",
       "    <tr style=\"text-align: right;\">\n",
       "      <th></th>\n",
       "      <th>brand</th>\n",
       "      <th>month</th>\n",
       "      <th>num_reviews</th>\n",
       "      <th>total_revenue</th>\n",
       "    </tr>\n",
       "  </thead>\n",
       "  <tbody>\n",
       "    <tr>\n",
       "      <th>0</th>\n",
       "      <td>Adidas</td>\n",
       "      <td>1</td>\n",
       "      <td>253</td>\n",
       "      <td>1085801.88</td>\n",
       "    </tr>\n",
       "    <tr>\n",
       "      <th>1</th>\n",
       "      <td>Adidas</td>\n",
       "      <td>2</td>\n",
       "      <td>272</td>\n",
       "      <td>1153606.20</td>\n",
       "    </tr>\n",
       "    <tr>\n",
       "      <th>2</th>\n",
       "      <td>Adidas</td>\n",
       "      <td>3</td>\n",
       "      <td>269</td>\n",
       "      <td>1160076.93</td>\n",
       "    </tr>\n",
       "    <tr>\n",
       "      <th>3</th>\n",
       "      <td>Adidas</td>\n",
       "      <td>4</td>\n",
       "      <td>180</td>\n",
       "      <td>854969.43</td>\n",
       "    </tr>\n",
       "    <tr>\n",
       "      <th>4</th>\n",
       "      <td>Adidas</td>\n",
       "      <td>5</td>\n",
       "      <td>172</td>\n",
       "      <td>708602.14</td>\n",
       "    </tr>\n",
       "  </tbody>\n",
       "</table>\n",
       "</div>"
      ],
      "text/plain": [
       "    brand  month  num_reviews  total_revenue\n",
       "0  Adidas      1          253     1085801.88\n",
       "1  Adidas      2          272     1153606.20\n",
       "2  Adidas      3          269     1160076.93\n",
       "3  Adidas      4          180      854969.43\n",
       "4  Adidas      5          172      708602.14"
      ]
     },
     "execution_count": 96,
     "metadata": {},
     "output_type": "execute_result"
    }
   ],
   "source": [
    "Monthly_reviews.head()"
   ]
  },
  {
   "cell_type": "code",
   "execution_count": 101,
   "metadata": {},
   "outputs": [
    {
     "data": {
      "text/plain": [
       "Text(0.5, 1.0, 'Adidas Sales per month')"
      ]
     },
     "execution_count": 101,
     "metadata": {},
     "output_type": "execute_result"
    },
    {
     "data": {
      "image/png": "[encoded data removed]",
      "text/plain": [
       "<Figure size 1200x400 with 2 Axes>"
      ]
     },
     "metadata": {},
     "output_type": "display_data"
    }
   ],
   "source": [
    "fig, (ax1,ax2)=plt.subplots(1,2,figsize=[12,4])\n",
    "\n",
    "sns.lineplot(x='month',y='total_revenue',data=Monthly_reviews[Monthly_reviews.brand=='Nike'],ax=ax1)\n",
    "\n",
    "sns.lineplot(x='month',y='total_revenue',data=Monthly_reviews[Monthly_reviews.brand=='Adidas'],ax=ax2)\n",
    "\n",
    "ax1.set_title('Nike Sales per month')\n",
    "\n",
    "ax2.set_title('Adidas Sales per month')"
   ]
  },
  {
   "cell_type": "code",
   "execution_count": null,
   "metadata": {},
   "outputs": [],
   "source": [
    "# First half more sales "
   ]
  },
  {
   "cell_type": "code",
   "execution_count": 104,
   "metadata": {},
   "outputs": [
    {
     "data": {
      "text/plain": [
       "Text(0.5, 1.0, 'Adidas reviews per month')"
      ]
     },
     "execution_count": 104,
     "metadata": {},
     "output_type": "execute_result"
    },
    {
     "data": {
      "image/png": "[encoded data removed]",
      "text/plain": [
       "<Figure size 1200x400 with 2 Axes>"
      ]
     },
     "metadata": {},
     "output_type": "display_data"
    }
   ],
   "source": [
    "fig, (ax1,ax2)=plt.subplots(1,2,figsize=[12,4])\n",
    "\n",
    "sns.lineplot(x='month',y='num_reviews',data=Monthly_reviews[Monthly_reviews.brand=='Nike'],ax=ax1)\n",
    "\n",
    "sns.lineplot(x='month',y='num_reviews',data=Monthly_reviews[Monthly_reviews.brand=='Adidas'],ax=ax2)\n",
    "\n",
    "ax1.set_title('Nike reviews per month')\n",
    "\n",
    "ax2.set_title('Adidas reviews per month')"
   ]
  },
  {
   "cell_type": "code",
   "execution_count": 105,
   "metadata": {},
   "outputs": [],
   "source": [
    "# similarly the reviews are very high at the first quarter"
   ]
  },
  {
   "attachments": {},
   "cell_type": "markdown",
   "metadata": {},
   "source": [
    "# brands BY PRICE CATEGORY"
   ]
  },
  {
   "cell_type": "code",
   "execution_count": 108,
   "metadata": {},
   "outputs": [
    {
     "data": {
      "text/html": [
       "<div>\n",
       "<style scoped>\n",
       "    .dataframe tbody tr th:only-of-type {\n",
       "        vertical-align: middle;\n",
       "    }\n",
       "\n",
       "    .dataframe tbody tr th {\n",
       "        vertical-align: top;\n",
       "    }\n",
       "\n",
       "    .dataframe thead th {\n",
       "        text-align: right;\n",
       "    }\n",
       "</style>\n",
       "<table border=\"1\" class=\"dataframe\">\n",
       "  <thead>\n",
       "    <tr style=\"text-align: right;\">\n",
       "      <th></th>\n",
       "      <th>brand</th>\n",
       "      <th>count</th>\n",
       "      <th>total_revenue</th>\n",
       "      <th>price_category</th>\n",
       "    </tr>\n",
       "  </thead>\n",
       "  <tbody>\n",
       "    <tr>\n",
       "      <th>0</th>\n",
       "      <td>Adidas</td>\n",
       "      <td>849</td>\n",
       "      <td>4626980.07</td>\n",
       "      <td>Expensive</td>\n",
       "    </tr>\n",
       "    <tr>\n",
       "      <th>1</th>\n",
       "      <td>Adidas</td>\n",
       "      <td>1009</td>\n",
       "      <td>3128834.39</td>\n",
       "      <td>Average</td>\n",
       "    </tr>\n",
       "    <tr>\n",
       "      <th>2</th>\n",
       "      <td>Adidas</td>\n",
       "      <td>307</td>\n",
       "      <td>3014316.83</td>\n",
       "      <td>Elite</td>\n",
       "    </tr>\n",
       "    <tr>\n",
       "      <th>3</th>\n",
       "      <td>Adidas</td>\n",
       "      <td>410</td>\n",
       "      <td>756487.79</td>\n",
       "      <td>Budget</td>\n",
       "    </tr>\n",
       "    <tr>\n",
       "      <th>4</th>\n",
       "      <td>Nike</td>\n",
       "      <td>357</td>\n",
       "      <td>595341.02</td>\n",
       "      <td>Budget</td>\n",
       "    </tr>\n",
       "    <tr>\n",
       "      <th>5</th>\n",
       "      <td>Nike</td>\n",
       "      <td>82</td>\n",
       "      <td>128475.59</td>\n",
       "      <td>Elite</td>\n",
       "    </tr>\n",
       "    <tr>\n",
       "      <th>6</th>\n",
       "      <td>Nike</td>\n",
       "      <td>90</td>\n",
       "      <td>71843.15</td>\n",
       "      <td>Expensive</td>\n",
       "    </tr>\n",
       "    <tr>\n",
       "      <th>7</th>\n",
       "      <td>Nike</td>\n",
       "      <td>16</td>\n",
       "      <td>6623.50</td>\n",
       "      <td>Average</td>\n",
       "    </tr>\n",
       "  </tbody>\n",
       "</table>\n",
       "</div>"
      ],
      "text/plain": [
       "    brand  count  total_revenue price_category\n",
       "0  Adidas    849     4626980.07      Expensive\n",
       "1  Adidas   1009     3128834.39        Average\n",
       "2  Adidas    307     3014316.83          Elite\n",
       "3  Adidas    410      756487.79         Budget\n",
       "4    Nike    357      595341.02         Budget\n",
       "5    Nike     82      128475.59          Elite\n",
       "6    Nike     90       71843.15      Expensive\n",
       "7    Nike     16        6623.50        Average"
      ]
     },
     "execution_count": 108,
     "metadata": {},
     "output_type": "execute_result"
    }
   ],
   "source": [
    "price_cat"
   ]
  },
  {
   "cell_type": "code",
   "execution_count": 110,
   "metadata": {},
   "outputs": [
    {
     "data": {
      "text/plain": [
       "<AxesSubplot: xlabel='price_category', ylabel='count'>"
      ]
     },
     "execution_count": 110,
     "metadata": {},
     "output_type": "execute_result"
    },
    {
     "data": {
      "image/png": "[encoded data removed]",
      "text/plain": [
       "<Figure size 640x480 with 1 Axes>"
      ]
     },
     "metadata": {},
     "output_type": "display_data"
    }
   ],
   "source": [
    "sns.barplot(y='count',data=price_cat,x='price_category',hue='brand')"
   ]
  },
  {
   "cell_type": "code",
   "execution_count": 120,
   "metadata": {},
   "outputs": [
    {
     "data": {
      "image/png": "[encoded data removed]",
      "text/plain": [
       "<Figure size 1200x600 with 2 Axes>"
      ]
     },
     "metadata": {},
     "output_type": "display_data"
    }
   ],
   "source": [
    "fig, (ax1,ax2)=plt.subplots(1,2,figsize=[12,6])\n",
    "ax1.pie(price_cat['count'][price_cat.brand=='Nike'], labels=price_cat.price_category[price_cat.brand=='Nike'], autopct='%1.1f%%')\n",
    "ax1.set_title('Nike price distribution')\n",
    "ax2.pie(price_cat['count'][price_cat.brand=='Adidas'], labels=price_cat.price_category[price_cat.brand=='Adidas'], autopct='%1.1f%%')\n",
    "ax2.set_title('adidas price distribution')\n",
    "plt.show()"
   ]
  },
  {
   "cell_type": "code",
   "execution_count": 121,
   "metadata": {},
   "outputs": [],
   "source": [
    "# Here we can analyze Nike has Major proportion of peoducts in budget category\n",
    "# Even though its expensive, lot of people buy products from adidas\n",
    "# Nike has sold about 31.5% of expensive and elite products combined"
   ]
  },
  {
   "cell_type": "code",
   "execution_count": 114,
   "metadata": {},
   "outputs": [],
   "source": [
    "conn.commit()\n",
    "conn.close()"
   ]
  },
  {
   "cell_type": "code",
   "execution_count": null,
   "metadata": {},
   "outputs": [],
   "source": []
  },
  {
   "cell_type": "code",
   "execution_count": null,
   "metadata": {},
   "outputs": [],
   "source": []
  }
 ],
 "metadata": {
  "kernelspec": {
   "display_name": "Python 3",
   "language": "python",
   "name": "python3"
  },
  "language_info": {
   "codemirror_mode": {
    "name": "ipython",
    "version": 3
   },
   "file_extension": ".py",
   "mimetype": "text/x-python",
   "name": "python",
   "nbconvert_exporter": "python",
   "pygments_lexer": "ipython3",
   "version": "3.11.2"
  },
  "orig_nbformat": 4,
  "vscode": {
   "interpreter": {
    "hash": "4d9399e5a6e4d475271d95cf46d87a34c121445f12ef9ab98de0e82dfe9841c2"
   }
  }
 },
 "nbformat": 4,
 "nbformat_minor": 2
}
